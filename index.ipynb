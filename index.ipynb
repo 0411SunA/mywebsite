{
  "cells": [
    {
      "cell_type": "raw",
      "metadata": {},
      "source": [
        "---\n",
        "title: testwebsite\n",
        "toc: false\n",
        "about:\n",
        "  id: hero-heading\n",
        "  template: jolla\n",
        "  image: 20230824504197.jpg\n",
        "links:\n",
        "  - icon: github\n",
        "  - text: Github\n",
        "  - href: 'https://github.com/'\n",
        "---"
      ],
      "id": "a7318b21"
    },
    {
      "cell_type": "markdown",
      "metadata": {},
      "source": [
        "## 홈페이지 첫 화면입니다.!\n",
        "\n",
        "안녕하세요. *백선아*입니다.\n",
        "\n",
        "**반갑습니다**\n",
        "*:)*\n"
      ],
      "id": "0ac4147a"
    }
  ],
  "metadata": {
    "kernelspec": {
      "name": "python3",
      "language": "python",
      "display_name": "Python 3 (ipykernel)"
    }
  },
  "nbformat": 4,
  "nbformat_minor": 5
}