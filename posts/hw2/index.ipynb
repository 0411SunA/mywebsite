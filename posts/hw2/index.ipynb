{
  "cells": [
    {
      "cell_type": "raw",
      "metadata": {},
      "source": [
        "---\n",
        "title: LS 빅데이터 스쿨 Homework 2\n",
        "author: 백선아\n",
        "date: '2024-07-12'\n",
        "categories:\n",
        "  - bogdata\n",
        "---"
      ],
      "id": "6b903469"
    },
    {
      "cell_type": "markdown",
      "metadata": {},
      "source": [
        "# p.144 \n",
        "# Q.1 자동차 배기량에 따라 고속도로 연비가 다른지 알아보려합니다."
      ],
      "id": "6c240449"
    },
    {
      "cell_type": "code",
      "metadata": {},
      "source": [
        "import numpy as np\n",
        "import pandas as pd\n",
        "df = pd.read_csv('C:/Users/USER/Documents/project/data/mpg.csv')\n",
        "df\n",
        "# displ이 4 이하인 자동차\n",
        "df_4 = df.query('displ <= 4')\n",
        "df_4['hwy'].mean()\n",
        "\n",
        "# displ이 5 이상인 자동차\n",
        "df_5 = df.query('displ >=5')\n",
        "df_5['hwy'].mean()"
      ],
      "id": "8d1f6ff2",
      "execution_count": null,
      "outputs": []
    },
    {
      "cell_type": "markdown",
      "metadata": {},
      "source": [
        "## 결론: displ이 4 이상인 자동차의 hwy 평균이 25.96으로 displ 5 이상인 자동의 hwy 평균(18.08)보다 높다.\n",
        "\n",
        "# Q2. 'audi'와 'toyota' 중 어느 manufacturer의 cty 평균이 더 높은지 알아보세요."
      ],
      "id": "6c920c4e"
    },
    {
      "cell_type": "code",
      "metadata": {},
      "source": [
        "# 자동차 제조 회사가 audi인 경우\n",
        "df_audi = df.query('manufacturer == \"audi\"')\n",
        "df_audi['cty'].mean()\n",
        "\n",
        "# 자동차 제조 회사가 toyota인 경우\n",
        "df_toyota = df.query('manufacturer == \"toyota\"')\n",
        "df_toyota['cty'].mean()"
      ],
      "id": "4a611383",
      "execution_count": null,
      "outputs": []
    },
    {
      "cell_type": "markdown",
      "metadata": {},
      "source": [
        "## 결론: toyota의 cty 평균이 더 높다. audi의 cty 평균: 17.61, toyota의 cty 평균: 18.53\n",
        "\n",
        "# Q3. 'chevolet', 'ford', 'honda' 자동차의 고속도로 연비 평균을 알아보려고 함. 세 회사의 데이터를 추출한 다음 hwy 전체 평균을 구해보세요.\n"
      ],
      "id": "7cfe8ea3"
    },
    {
      "cell_type": "code",
      "metadata": {},
      "source": [
        "df_3 = df.query(\"manufacturer in ['chevrolet', 'ford', 'honda']\")\n",
        "df_3['hwy'].mean()"
      ],
      "id": "6152c7c7",
      "execution_count": null,
      "outputs": []
    },
    {
      "cell_type": "markdown",
      "metadata": {},
      "source": [
        "# 정답: 세 회사의 hwy 전체 평균: 22.509\n",
        "\n",
        "# p.153 mpg 데이터를 이용해 분석 문제를 해결해 보세요.\n",
        "# Q.1 'audi'에서 생산한 자동차 중에 어떤 자동차 모델의 hwy(고속도로 연비)가 높은지 알아보려고 한다. 'audi'에서 생산한 자동차 중 hwy가 1~5위에 해당하는 자동차의 데이터를 출력하세요.\n"
      ],
      "id": "bf666520"
    },
    {
      "cell_type": "code",
      "metadata": {},
      "source": [
        "df_audi = df.query(\"manufacturer == 'audi'\")\n",
        "df_audi.sort_values('hwy').head(5)"
      ],
      "id": "b8df2870",
      "execution_count": null,
      "outputs": []
    },
    {
      "cell_type": "markdown",
      "metadata": {},
      "source": [
        "# p.158 mpg 데이터를 이용해 분석 문제를 해결해 보세요.\n",
        "# Q.2 mpg 데이터 복사본을 만들고, cty와 hwy를 더한 '합산 연비 변수'를 추가하세요.\n"
      ],
      "id": "a10fafb0"
    },
    {
      "cell_type": "code",
      "metadata": {},
      "source": [
        "import numpy as np\n",
        "import pandas as pd\n",
        "mpg = pd.read_csv('C:/Users/USER/Documents/project/data/mpg.csv')\n",
        "mpg\n",
        "\n",
        "mpg_new = mpg.copy()\n",
        "\n",
        "mpg_new = mpg_new.assign(total = lambda x: x['cty'] + x['hwy'],\n",
        "                         mean =  lambda x: x['total'] / 2)\n",
        "mpg_new        "
      ],
      "id": "9639abbe",
      "execution_count": null,
      "outputs": []
    },
    {
      "cell_type": "markdown",
      "metadata": {},
      "source": [
        "# Q3. '평균 연비 변수'가 가장 높은 자동차 3종의 데이터를 출력하세요.\n"
      ],
      "id": "b2270262"
    },
    {
      "cell_type": "code",
      "metadata": {},
      "source": [
        "mpg_new.sort_values('mean', ascending=False).head(3)"
      ],
      "id": "2b5cf3bc",
      "execution_count": null,
      "outputs": []
    },
    {
      "cell_type": "markdown",
      "metadata": {},
      "source": [
        "# Q4. 1~3번 문제를 해결할 수 있는 하나로 연결된 pandas 구문을 만들어 실행해 보세요. 데이터는 복사본 대신 mpg 원본을 이용하세요."
      ],
      "id": "66fb933d"
    },
    {
      "cell_type": "code",
      "metadata": {},
      "source": [
        "mpg.assign(total = lambda x: x['cty'] + x['hwy'],\n",
        "           mean = lambda x: x['total'] / 2) \\\n",
        "    .sort_values('mean', ascending = False) \\\n",
        "    .head(3)"
      ],
      "id": "79f09edc",
      "execution_count": null,
      "outputs": []
    }
  ],
  "metadata": {
    "kernelspec": {
      "name": "python3",
      "language": "python",
      "display_name": "Python 3 (ipykernel)"
    }
  },
  "nbformat": 4,
  "nbformat_minor": 5
}