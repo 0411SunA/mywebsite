{
  "cells": [
    {
      "cell_type": "raw",
      "metadata": {},
      "source": [
        "---\n",
        "title: hw1\n",
        "---"
      ],
      "id": "e0588702"
    },
    {
      "cell_type": "markdown",
      "metadata": {},
      "source": [
        "## p.84 데이터프레임 만들기\n",
        "## Q1. 다음 표의 내용을 데이터 프레임으로 만들어 출력해 보세요.\n"
      ],
      "id": "507ea4a0"
    },
    {
      "cell_type": "code",
      "metadata": {},
      "source": [
        "import pandas as pd\n",
        "\n",
        "df = pd.DataFrame({'제품' : [\"사과\", \"딸기\", \"수박\"],\n",
        "                   '가격':  [1800, 1500, 3000],\n",
        "                   '판매량':[24, 38, 13]})\n",
        "df"
      ],
      "id": "62401063",
      "execution_count": null,
      "outputs": []
    },
    {
      "cell_type": "markdown",
      "metadata": {},
      "source": [
        "## Q2. 앞에서 만든 데이터 프레임을 이용해 과일의 가격 평균과 판매량 평균을 구해 보세요.\n"
      ],
      "id": "eea45e2c"
    },
    {
      "cell_type": "code",
      "metadata": {},
      "source": [
        "# 가격\n",
        "df[\"가격\"].mean()"
      ],
      "id": "b9793432",
      "execution_count": null,
      "outputs": []
    },
    {
      "cell_type": "code",
      "metadata": {},
      "source": [
        "# 판매량\n",
        "df[\"판매량\"].mean()"
      ],
      "id": "e0f265e5",
      "execution_count": null,
      "outputs": []
    },
    {
      "cell_type": "markdown",
      "metadata": {},
      "source": [
        "### p.115\n",
        "## Q1. mpg 데이터를 불러와 복사본을 만드세요.\n"
      ],
      "id": "bb47a9d0"
    },
    {
      "cell_type": "code",
      "metadata": {},
      "source": [
        "# p.115\n",
        "mpg = pd.read_csv('data/mpg.csv')\n",
        "mpg\n",
        "\n",
        "mpg_new = mpg.copy()\n",
        "mpg_new"
      ],
      "id": "5f8246de",
      "execution_count": null,
      "outputs": []
    },
    {
      "cell_type": "markdown",
      "metadata": {},
      "source": [
        "## Q2. 복사본 데이터를 이용해 cty는 city로, hwy는 highway로 수정하세요."
      ],
      "id": "a6644dc2"
    },
    {
      "cell_type": "code",
      "metadata": {},
      "source": [
        "mpg_new = mpg_new.rename(columns = {'cty' : 'city'})\n",
        "mpg_new = mpg_new.rename(columns = {'hwy' : 'highway'})\n",
        "mpg_new"
      ],
      "id": "2563a364",
      "execution_count": null,
      "outputs": []
    },
    {
      "cell_type": "markdown",
      "metadata": {},
      "source": [
        "## Q3. 데이터 일부를 출력해 변수명이 바뀌었는지 확인해 보세요. "
      ],
      "id": "342593a3"
    },
    {
      "cell_type": "code",
      "metadata": {},
      "source": [
        "mpg_new.head()"
      ],
      "id": "477092e7",
      "execution_count": null,
      "outputs": []
    },
    {
      "cell_type": "markdown",
      "metadata": {},
      "source": [
        "## p.130\n",
        "## Q1 midwest.csv를 불러와 데이터의 특징을 파악하세요.\n"
      ],
      "id": "964c2e9e"
    },
    {
      "cell_type": "code",
      "metadata": {},
      "source": [
        "import pandas as pd\n",
        "midwest = pd.read_csv('C:/Users/USER/Documents/LS빅데이터스쿨/Doit_Python/Data/midwest.csv')\n",
        "midwest.head()\n",
        "midwest.tail()\n",
        "midwest.shape\n",
        "midwest.info()\n",
        "midwest.describe()"
      ],
      "id": "352a8393",
      "execution_count": null,
      "outputs": []
    },
    {
      "cell_type": "markdown",
      "metadata": {},
      "source": [
        "## Q2. poptotal(전체 인구) 변수를 total로, popasian(아시아 인구) 변수를 asian으로 수정하세요."
      ],
      "id": "87106218"
    },
    {
      "cell_type": "code",
      "metadata": {},
      "source": [
        "midwest = midwest.rename(columns = {'poptotal' : 'total', 'popasian' : 'asian'})\n",
        "midwest.info()"
      ],
      "id": "6c4c65c6",
      "execution_count": null,
      "outputs": []
    },
    {
      "cell_type": "markdown",
      "metadata": {},
      "source": [
        "## Q3. total, asian 변수를 이용해 '전체 인구 대비 아시아 인구 백분율' 파생변수를 추가해 히스토그램을 만들어 분포를 살펴보세요."
      ],
      "id": "561012d4"
    },
    {
      "cell_type": "code",
      "metadata": {},
      "source": [
        "midwest['asia_r'] = (midwest['asian'] / midwest['total'])\n",
        "midwest['asia_r'].plot.hist()"
      ],
      "id": "9bd13e59",
      "execution_count": null,
      "outputs": []
    },
    {
      "cell_type": "markdown",
      "metadata": {},
      "source": [
        "## Q4. 아시아 인구 백분율 전체 평균을 구하고, 평균을 초과하면 'large', 그 외에는 'small'을 부여한 파생변수를 만들어 보세요."
      ],
      "id": "f21bbbf4"
    },
    {
      "cell_type": "code",
      "metadata": {},
      "source": [
        "import numpy as np\n",
        "midwest['mid_mean'] = midwest['asia_r'].mean()\n",
        "midwest['check'] = np.where(midwest['asia_r'] > midwest['mid_mean'], 'large', 'small' )\n",
        "midwest.head()"
      ],
      "id": "0a182536",
      "execution_count": null,
      "outputs": []
    },
    {
      "cell_type": "markdown",
      "metadata": {},
      "source": [
        "## Q5. 'large'와 'small'에 해당하는 지역이 얼마나 많은지 빈도표와 빈도 막대 그래프를 만들어 확인해 보세요."
      ],
      "id": "2ac01788"
    },
    {
      "cell_type": "code",
      "metadata": {},
      "source": [
        "# 빈도표\n",
        "count_asia = midwest['check'].value_counts()\n",
        "count_asia"
      ],
      "id": "afd262ed",
      "execution_count": null,
      "outputs": []
    },
    {
      "cell_type": "code",
      "metadata": {},
      "source": [
        "# 빈도 막대 그래프\n",
        "count_asia.plot.bar(rot = 0)"
      ],
      "id": "d3948f2a",
      "execution_count": null,
      "outputs": []
    }
  ],
  "metadata": {
    "kernelspec": {
      "name": "python3",
      "language": "python",
      "display_name": "Python 3 (ipykernel)"
    }
  },
  "nbformat": 4,
  "nbformat_minor": 5
}