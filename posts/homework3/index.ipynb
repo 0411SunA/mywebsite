{
  "cells": [
    {
      "cell_type": "raw",
      "metadata": {},
      "source": [
        "---\n",
        "title: LS 빅데이터 스쿨 homework 3\n",
        "author: 백선아\n",
        "date: '2024-07-12'\n",
        "categories:\n",
        "  - bigdata\n",
        "---"
      ],
      "id": "979a01a4"
    },
    {
      "cell_type": "code",
      "metadata": {},
      "source": [
        "import pandas as pd\n",
        "import seaborn as sns\n",
        "mpg = pd.read_csv('C:/Users/USER/Documents/project/data/mpg.csv')\n",
        "mpg"
      ],
      "id": "1a5b114c",
      "execution_count": null,
      "outputs": []
    },
    {
      "cell_type": "markdown",
      "metadata": {},
      "source": [
        "## p204. mpg 데이터와 midwest 데이터를 이용해 분석 문제를 해결해 보세요.\n",
        "## 1. mpg 데이터의 cty와 hwy 간에 어떤 관계가 있는지 알아보려고 합니다. x축은 cty, y축은 hwy로 된 산점도를 만들어 보세요."
      ],
      "id": "18ca2b58"
    },
    {
      "cell_type": "code",
      "metadata": {},
      "source": [
        "sns.scatterplot(data = mpg, x = 'cty', y = 'hwy')"
      ],
      "id": "84c500fa",
      "execution_count": null,
      "outputs": []
    },
    {
      "cell_type": "markdown",
      "metadata": {},
      "source": [
        "## 2. 미국의 지역별 인구통계 정보를 담은 midwest.csv를 이용해 전체 인구와 아시아인 인구 간에 어떤 관계가 있는지 알아보려고 합니다. x축은 poptotal(전체 인구), y축은 popasian(아시아인 인구)으로 된 산점도를 만들어 보세요. 전체 인구는 50만 명 이하, 아시아인 인구는 1만 명 이하인 지역만 산점도에 표시되게 설정하세요."
      ],
      "id": "67642347"
    },
    {
      "cell_type": "code",
      "metadata": {},
      "source": [
        "midwest = pd.read_csv('C:/Users/USER/Documents/LS빅데이터스쿨/mywebsite/data/midwest.csv')\n",
        "midwest"
      ],
      "id": "56b768f4",
      "execution_count": null,
      "outputs": []
    },
    {
      "cell_type": "code",
      "metadata": {},
      "source": [
        "sns.scatterplot(data = midwest, x = 'poptotal', y = 'popasian') \\\n",
        "   .set(xlim = [0,500000], ylim= [0, 10000])"
      ],
      "id": "01447ab4",
      "execution_count": null,
      "outputs": []
    },
    {
      "cell_type": "markdown",
      "metadata": {},
      "source": [
        "## p. 211\n",
        "## 1. 어떤 회사에서 생산한 'suv' 차종의 도시 연비가 높은지 알아보려고 합니다. 'suv' 차종을 대상으로 cty(도시 연비) 평균이 가장 높은 회사 다섯 곳을 막대 그래프로 표현해 보세요. 막대는 연비가 높은 순으로 정렬하세요."
      ],
      "id": "d1d78534"
    },
    {
      "cell_type": "code",
      "metadata": {},
      "source": [
        "mpg = pd.read_csv('C:/Users/USER/Documents/LS빅데이터스쿨/mywebsite/data/mpg.csv')\n",
        "df = mpg.query('category == \"suv\"')\\\n",
        "        .groupby('manufacturer', as_index = False) \\\n",
        "        .agg(mean_cty = ('cty', 'mean')) \\\n",
        "        .sort_values('mean_cty', ascending = False) \\\n",
        "        .head()\n",
        "df            "
      ],
      "id": "476445c8",
      "execution_count": null,
      "outputs": []
    },
    {
      "cell_type": "code",
      "metadata": {},
      "source": [
        "sns.barplot(data = df, x = 'manufacturer', y = 'mean_cty')"
      ],
      "id": "f4e7c30f",
      "execution_count": null,
      "outputs": []
    },
    {
      "cell_type": "markdown",
      "metadata": {},
      "source": [
        "##2. 자동차 중에 어떤 category(자동차 종류)가 많은지 알아보려고 합니다. sns.barplot()을 이용해 자동차 종류별 빈도를 표현한 막대 그래프를 만들어 보세요. 막대는 빈도가 높은 순으로 정렬하세요."
      ],
      "id": "7539f694"
    },
    {
      "cell_type": "code",
      "metadata": {},
      "source": [
        "df_mpg = mpg.groupby('category', as_index = False) \\\n",
        "            .agg(n = ('category', 'count')) \\\n",
        "            .sort_values('n', ascending = False)"
      ],
      "id": "299cfca0",
      "execution_count": null,
      "outputs": []
    },
    {
      "cell_type": "code",
      "metadata": {},
      "source": [
        "sns.barplot(data = df_mpg, x = 'category', y = 'n')"
      ],
      "id": "72c5be1f",
      "execution_count": null,
      "outputs": []
    }
  ],
  "metadata": {
    "kernelspec": {
      "name": "python3",
      "language": "python",
      "display_name": "Python 3 (ipykernel)"
    }
  },
  "nbformat": 4,
  "nbformat_minor": 5
}